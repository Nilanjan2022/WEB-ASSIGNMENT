{
 "cells": [
  {
   "cell_type": "code",
   "execution_count": 65,
   "id": "a132a6c8",
   "metadata": {},
   "outputs": [],
   "source": [
    "#ANS.2.\n",
    "\n",
    "import selenium\n",
    "import pandas as pd\n",
    "from selenium import webdriver"
   ]
  },
  {
   "cell_type": "code",
   "execution_count": 69,
   "id": "f892ce07",
   "metadata": {},
   "outputs": [],
   "source": [
    "driver=webdriver.Chrome(r\"C:\\Users\\NILANJAN GUPTA\\Downloads\\chromedriver_win32\\chromedriver.exe\")"
   ]
  },
  {
   "cell_type": "code",
   "execution_count": 70,
   "id": "49e08da1",
   "metadata": {},
   "outputs": [],
   "source": [
    "url=\"https://www.bcci.tv\""
   ]
  },
  {
   "cell_type": "code",
   "execution_count": 71,
   "id": "f84c783e",
   "metadata": {},
   "outputs": [],
   "source": [
    "driver.get(url)"
   ]
  },
  {
   "cell_type": "code",
   "execution_count": 74,
   "id": "6dc59449",
   "metadata": {},
   "outputs": [],
   "source": [
    "Match_Title=driver.find_elements_by_xpath('//span[@class=\"fixture__date\"]')"
   ]
  },
  {
   "cell_type": "code",
   "execution_count": 75,
   "id": "ac7b6b2e",
   "metadata": {},
   "outputs": [
    {
     "data": {
      "text/plain": [
       "['24',\n",
       " '31',\n",
       " '03',\n",
       " '05',\n",
       " '08',\n",
       " '17',\n",
       " '19',\n",
       " '21',\n",
       " '25',\n",
       " '03',\n",
       " '17',\n",
       " '26',\n",
       " '03',\n",
       " '11',\n",
       " '14',\n",
       " '16',\n",
       " '19',\n",
       " '21',\n",
       " '23',\n",
       " '26']"
      ]
     },
     "execution_count": 75,
     "metadata": {},
     "output_type": "execute_result"
    }
   ],
   "source": [
    "Match_Title\n",
    "\n",
    "Mt=[]\n",
    "for i in Match_Title:\n",
    "    Mt.append(i.text)\n",
    "Mt"
   ]
  },
  {
   "cell_type": "code",
   "execution_count": 76,
   "id": "b89fe3ac",
   "metadata": {},
   "outputs": [],
   "source": [
    "Series=driver.find_elements_by_xpath('//strong[@class=\"fixture__name fixture__name--with-margin\"]')"
   ]
  },
  {
   "cell_type": "code",
   "execution_count": 77,
   "id": "ffd9d414",
   "metadata": {},
   "outputs": [
    {
     "data": {
      "text/plain": [
       "['Match 16',\n",
       " 'Match 28',\n",
       " 'Match 33',\n",
       " 'Match 37',\n",
       " 'Match 42',\n",
       " '1st T20I',\n",
       " '2nd T20I',\n",
       " '3rd T20I',\n",
       " '1st Test',\n",
       " '2nd Test',\n",
       " '1st Test',\n",
       " '2nd Test',\n",
       " '3rd Test',\n",
       " '1st ODI',\n",
       " '2nd ODI',\n",
       " '3rd ODI',\n",
       " '1st T20I',\n",
       " '2nd T20I',\n",
       " '3rd T20I',\n",
       " '4th T20I']"
      ]
     },
     "execution_count": 77,
     "metadata": {},
     "output_type": "execute_result"
    }
   ],
   "source": [
    "S=[]\n",
    "\n",
    "for i in Series:\n",
    "    S.append(i.text)\n",
    "S"
   ]
  },
  {
   "cell_type": "code",
   "execution_count": 78,
   "id": "97230a89",
   "metadata": {},
   "outputs": [],
   "source": [
    "Place=driver.find_elements_by_xpath('//p[@class=\"fixture__additional-info\"]//span')"
   ]
  },
  {
   "cell_type": "code",
   "execution_count": 79,
   "id": "57467e71",
   "metadata": {},
   "outputs": [
    {
     "data": {
      "text/plain": [
       "['Dubai International Stadium, Dubai',\n",
       " 'Dubai International Stadium, Dubai',\n",
       " 'Zayed Cricket Stadium, Abu Dhabi',\n",
       " 'Dubai International Stadium, Dubai',\n",
       " 'Dubai International Stadium, Dubai',\n",
       " 'Sawai Mansingh Stadium, Jaipur',\n",
       " 'JSCA International Stadium Complex, Ranchi',\n",
       " 'Eden Gardens, Kolkata',\n",
       " 'Green Park, Kanpur',\n",
       " 'Wankhede Stadium, Mumbai',\n",
       " 'New Wanderers Stadium, Johannesburg',\n",
       " 'Supersport Park, Centurion',\n",
       " 'New Wanderers Stadium, Johannesburg',\n",
       " 'Boland Park, Paarl',\n",
       " 'Newlands, Cape Town',\n",
       " 'Newlands, Cape Town',\n",
       " 'Newlands, Cape Town',\n",
       " 'Newlands, Cape Town',\n",
       " 'Boland Park, Paarl',\n",
       " 'Boland Park, Paarl']"
      ]
     },
     "execution_count": 79,
     "metadata": {},
     "output_type": "execute_result"
    }
   ],
   "source": [
    "Place\n",
    "\n",
    "P=[]\n",
    "for i in Place:\n",
    "    P.append(i.text)\n",
    "P"
   ]
  },
  {
   "cell_type": "code",
   "execution_count": 80,
   "id": "09231c24",
   "metadata": {},
   "outputs": [],
   "source": [
    "Date=driver.find_elements_by_xpath('//span[@class=\"fixture__date\"]')"
   ]
  },
  {
   "cell_type": "code",
   "execution_count": 81,
   "id": "0762a0b1",
   "metadata": {},
   "outputs": [
    {
     "data": {
      "text/plain": [
       "['24',\n",
       " '31',\n",
       " '03',\n",
       " '05',\n",
       " '08',\n",
       " '17',\n",
       " '19',\n",
       " '21',\n",
       " '25',\n",
       " '03',\n",
       " '17',\n",
       " '26',\n",
       " '03',\n",
       " '11',\n",
       " '14',\n",
       " '16',\n",
       " '19',\n",
       " '21',\n",
       " '23',\n",
       " '26']"
      ]
     },
     "execution_count": 81,
     "metadata": {},
     "output_type": "execute_result"
    }
   ],
   "source": [
    "Date\n",
    "D=[]\n",
    "for i in Date:\n",
    "    D.append(i.text)\n",
    "D"
   ]
  },
  {
   "cell_type": "code",
   "execution_count": 82,
   "id": "10963616",
   "metadata": {},
   "outputs": [],
   "source": [
    "Month=driver.find_elements_by_xpath('//span[@class=\"fixture__month\"]')"
   ]
  },
  {
   "cell_type": "code",
   "execution_count": 83,
   "id": "f2063465",
   "metadata": {},
   "outputs": [
    {
     "data": {
      "text/plain": [
       "['OCTOBER',\n",
       " 'OCTOBER',\n",
       " 'NOVEMBER',\n",
       " 'NOVEMBER',\n",
       " 'NOVEMBER',\n",
       " 'NOVEMBER',\n",
       " 'NOVEMBER',\n",
       " 'NOVEMBER',\n",
       " 'NOVEMBER',\n",
       " 'DECEMBER',\n",
       " 'DECEMBER',\n",
       " 'DECEMBER',\n",
       " 'JANUARY',\n",
       " 'JANUARY',\n",
       " 'JANUARY',\n",
       " 'JANUARY',\n",
       " 'JANUARY',\n",
       " 'JANUARY',\n",
       " 'JANUARY',\n",
       " 'JANUARY']"
      ]
     },
     "execution_count": 83,
     "metadata": {},
     "output_type": "execute_result"
    }
   ],
   "source": [
    "Month\n",
    "M=[]\n",
    "for i in Month:\n",
    "    M.append(i.text)\n",
    "M"
   ]
  },
  {
   "cell_type": "code",
   "execution_count": 84,
   "id": "f1aa2d59",
   "metadata": {},
   "outputs": [],
   "source": [
    "Time=driver.find_elements_by_xpath('//span[@class=\"fixture__time\"]')"
   ]
  },
  {
   "cell_type": "code",
   "execution_count": 85,
   "id": "d2a4cedc",
   "metadata": {},
   "outputs": [
    {
     "data": {
      "text/plain": [
       "['19:30 IST',\n",
       " '19:30 IST',\n",
       " '19:30 IST',\n",
       " '19:30 IST',\n",
       " '19:30 IST',\n",
       " '19:00 IST',\n",
       " '19:00 IST',\n",
       " '19:00 IST',\n",
       " '09:30 IST',\n",
       " '09:30 IST',\n",
       " '13:30 IST',\n",
       " '13:30 IST',\n",
       " '13:30 IST',\n",
       " '14:00 IST',\n",
       " '14:00 IST',\n",
       " '14:00 IST',\n",
       " '19:30 IST',\n",
       " '19:30 IST',\n",
       " '19:30 IST',\n",
       " '19:30 IST']"
      ]
     },
     "execution_count": 85,
     "metadata": {},
     "output_type": "execute_result"
    }
   ],
   "source": [
    "Time\n",
    "\n",
    "T=[]\n",
    "for i in Time:\n",
    "    T.append(i.text)\n",
    "T"
   ]
  },
  {
   "cell_type": "code",
   "execution_count": 87,
   "id": "7609a45f",
   "metadata": {},
   "outputs": [
    {
     "data": {
      "text/html": [
       "<div>\n",
       "<style scoped>\n",
       "    .dataframe tbody tr th:only-of-type {\n",
       "        vertical-align: middle;\n",
       "    }\n",
       "\n",
       "    .dataframe tbody tr th {\n",
       "        vertical-align: top;\n",
       "    }\n",
       "\n",
       "    .dataframe thead th {\n",
       "        text-align: right;\n",
       "    }\n",
       "</style>\n",
       "<table border=\"1\" class=\"dataframe\">\n",
       "  <thead>\n",
       "    <tr style=\"text-align: right;\">\n",
       "      <th></th>\n",
       "      <th>Match Title</th>\n",
       "      <th>Series</th>\n",
       "      <th>Place</th>\n",
       "      <th>Date</th>\n",
       "      <th>Month</th>\n",
       "      <th>Time</th>\n",
       "    </tr>\n",
       "  </thead>\n",
       "  <tbody>\n",
       "    <tr>\n",
       "      <th>0</th>\n",
       "      <td>24</td>\n",
       "      <td>Match 16</td>\n",
       "      <td>Dubai International Stadium, Dubai</td>\n",
       "      <td>24</td>\n",
       "      <td>OCTOBER</td>\n",
       "      <td>19:30 IST</td>\n",
       "    </tr>\n",
       "    <tr>\n",
       "      <th>1</th>\n",
       "      <td>31</td>\n",
       "      <td>Match 28</td>\n",
       "      <td>Dubai International Stadium, Dubai</td>\n",
       "      <td>31</td>\n",
       "      <td>OCTOBER</td>\n",
       "      <td>19:30 IST</td>\n",
       "    </tr>\n",
       "    <tr>\n",
       "      <th>2</th>\n",
       "      <td>03</td>\n",
       "      <td>Match 33</td>\n",
       "      <td>Zayed Cricket Stadium, Abu Dhabi</td>\n",
       "      <td>03</td>\n",
       "      <td>NOVEMBER</td>\n",
       "      <td>19:30 IST</td>\n",
       "    </tr>\n",
       "    <tr>\n",
       "      <th>3</th>\n",
       "      <td>05</td>\n",
       "      <td>Match 37</td>\n",
       "      <td>Dubai International Stadium, Dubai</td>\n",
       "      <td>05</td>\n",
       "      <td>NOVEMBER</td>\n",
       "      <td>19:30 IST</td>\n",
       "    </tr>\n",
       "    <tr>\n",
       "      <th>4</th>\n",
       "      <td>08</td>\n",
       "      <td>Match 42</td>\n",
       "      <td>Dubai International Stadium, Dubai</td>\n",
       "      <td>08</td>\n",
       "      <td>NOVEMBER</td>\n",
       "      <td>19:30 IST</td>\n",
       "    </tr>\n",
       "    <tr>\n",
       "      <th>5</th>\n",
       "      <td>17</td>\n",
       "      <td>1st T20I</td>\n",
       "      <td>Sawai Mansingh Stadium, Jaipur</td>\n",
       "      <td>17</td>\n",
       "      <td>NOVEMBER</td>\n",
       "      <td>19:00 IST</td>\n",
       "    </tr>\n",
       "    <tr>\n",
       "      <th>6</th>\n",
       "      <td>19</td>\n",
       "      <td>2nd T20I</td>\n",
       "      <td>JSCA International Stadium Complex, Ranchi</td>\n",
       "      <td>19</td>\n",
       "      <td>NOVEMBER</td>\n",
       "      <td>19:00 IST</td>\n",
       "    </tr>\n",
       "    <tr>\n",
       "      <th>7</th>\n",
       "      <td>21</td>\n",
       "      <td>3rd T20I</td>\n",
       "      <td>Eden Gardens, Kolkata</td>\n",
       "      <td>21</td>\n",
       "      <td>NOVEMBER</td>\n",
       "      <td>19:00 IST</td>\n",
       "    </tr>\n",
       "    <tr>\n",
       "      <th>8</th>\n",
       "      <td>25</td>\n",
       "      <td>1st Test</td>\n",
       "      <td>Green Park, Kanpur</td>\n",
       "      <td>25</td>\n",
       "      <td>NOVEMBER</td>\n",
       "      <td>09:30 IST</td>\n",
       "    </tr>\n",
       "    <tr>\n",
       "      <th>9</th>\n",
       "      <td>03</td>\n",
       "      <td>2nd Test</td>\n",
       "      <td>Wankhede Stadium, Mumbai</td>\n",
       "      <td>03</td>\n",
       "      <td>DECEMBER</td>\n",
       "      <td>09:30 IST</td>\n",
       "    </tr>\n",
       "    <tr>\n",
       "      <th>10</th>\n",
       "      <td>17</td>\n",
       "      <td>1st Test</td>\n",
       "      <td>New Wanderers Stadium, Johannesburg</td>\n",
       "      <td>17</td>\n",
       "      <td>DECEMBER</td>\n",
       "      <td>13:30 IST</td>\n",
       "    </tr>\n",
       "    <tr>\n",
       "      <th>11</th>\n",
       "      <td>26</td>\n",
       "      <td>2nd Test</td>\n",
       "      <td>Supersport Park, Centurion</td>\n",
       "      <td>26</td>\n",
       "      <td>DECEMBER</td>\n",
       "      <td>13:30 IST</td>\n",
       "    </tr>\n",
       "    <tr>\n",
       "      <th>12</th>\n",
       "      <td>03</td>\n",
       "      <td>3rd Test</td>\n",
       "      <td>New Wanderers Stadium, Johannesburg</td>\n",
       "      <td>03</td>\n",
       "      <td>JANUARY</td>\n",
       "      <td>13:30 IST</td>\n",
       "    </tr>\n",
       "    <tr>\n",
       "      <th>13</th>\n",
       "      <td>11</td>\n",
       "      <td>1st ODI</td>\n",
       "      <td>Boland Park, Paarl</td>\n",
       "      <td>11</td>\n",
       "      <td>JANUARY</td>\n",
       "      <td>14:00 IST</td>\n",
       "    </tr>\n",
       "    <tr>\n",
       "      <th>14</th>\n",
       "      <td>14</td>\n",
       "      <td>2nd ODI</td>\n",
       "      <td>Newlands, Cape Town</td>\n",
       "      <td>14</td>\n",
       "      <td>JANUARY</td>\n",
       "      <td>14:00 IST</td>\n",
       "    </tr>\n",
       "    <tr>\n",
       "      <th>15</th>\n",
       "      <td>16</td>\n",
       "      <td>3rd ODI</td>\n",
       "      <td>Newlands, Cape Town</td>\n",
       "      <td>16</td>\n",
       "      <td>JANUARY</td>\n",
       "      <td>14:00 IST</td>\n",
       "    </tr>\n",
       "    <tr>\n",
       "      <th>16</th>\n",
       "      <td>19</td>\n",
       "      <td>1st T20I</td>\n",
       "      <td>Newlands, Cape Town</td>\n",
       "      <td>19</td>\n",
       "      <td>JANUARY</td>\n",
       "      <td>19:30 IST</td>\n",
       "    </tr>\n",
       "    <tr>\n",
       "      <th>17</th>\n",
       "      <td>21</td>\n",
       "      <td>2nd T20I</td>\n",
       "      <td>Newlands, Cape Town</td>\n",
       "      <td>21</td>\n",
       "      <td>JANUARY</td>\n",
       "      <td>19:30 IST</td>\n",
       "    </tr>\n",
       "    <tr>\n",
       "      <th>18</th>\n",
       "      <td>23</td>\n",
       "      <td>3rd T20I</td>\n",
       "      <td>Boland Park, Paarl</td>\n",
       "      <td>23</td>\n",
       "      <td>JANUARY</td>\n",
       "      <td>19:30 IST</td>\n",
       "    </tr>\n",
       "    <tr>\n",
       "      <th>19</th>\n",
       "      <td>26</td>\n",
       "      <td>4th T20I</td>\n",
       "      <td>Boland Park, Paarl</td>\n",
       "      <td>26</td>\n",
       "      <td>JANUARY</td>\n",
       "      <td>19:30 IST</td>\n",
       "    </tr>\n",
       "  </tbody>\n",
       "</table>\n",
       "</div>"
      ],
      "text/plain": [
       "   Match Title    Series                                       Place Date  \\\n",
       "0           24  Match 16          Dubai International Stadium, Dubai   24   \n",
       "1           31  Match 28          Dubai International Stadium, Dubai   31   \n",
       "2           03  Match 33            Zayed Cricket Stadium, Abu Dhabi   03   \n",
       "3           05  Match 37          Dubai International Stadium, Dubai   05   \n",
       "4           08  Match 42          Dubai International Stadium, Dubai   08   \n",
       "5           17  1st T20I              Sawai Mansingh Stadium, Jaipur   17   \n",
       "6           19  2nd T20I  JSCA International Stadium Complex, Ranchi   19   \n",
       "7           21  3rd T20I                       Eden Gardens, Kolkata   21   \n",
       "8           25  1st Test                          Green Park, Kanpur   25   \n",
       "9           03  2nd Test                    Wankhede Stadium, Mumbai   03   \n",
       "10          17  1st Test         New Wanderers Stadium, Johannesburg   17   \n",
       "11          26  2nd Test                  Supersport Park, Centurion   26   \n",
       "12          03  3rd Test         New Wanderers Stadium, Johannesburg   03   \n",
       "13          11   1st ODI                          Boland Park, Paarl   11   \n",
       "14          14   2nd ODI                         Newlands, Cape Town   14   \n",
       "15          16   3rd ODI                         Newlands, Cape Town   16   \n",
       "16          19  1st T20I                         Newlands, Cape Town   19   \n",
       "17          21  2nd T20I                         Newlands, Cape Town   21   \n",
       "18          23  3rd T20I                          Boland Park, Paarl   23   \n",
       "19          26  4th T20I                          Boland Park, Paarl   26   \n",
       "\n",
       "       Month       Time  \n",
       "0    OCTOBER  19:30 IST  \n",
       "1    OCTOBER  19:30 IST  \n",
       "2   NOVEMBER  19:30 IST  \n",
       "3   NOVEMBER  19:30 IST  \n",
       "4   NOVEMBER  19:30 IST  \n",
       "5   NOVEMBER  19:00 IST  \n",
       "6   NOVEMBER  19:00 IST  \n",
       "7   NOVEMBER  19:00 IST  \n",
       "8   NOVEMBER  09:30 IST  \n",
       "9   DECEMBER  09:30 IST  \n",
       "10  DECEMBER  13:30 IST  \n",
       "11  DECEMBER  13:30 IST  \n",
       "12   JANUARY  13:30 IST  \n",
       "13   JANUARY  14:00 IST  \n",
       "14   JANUARY  14:00 IST  \n",
       "15   JANUARY  14:00 IST  \n",
       "16   JANUARY  19:30 IST  \n",
       "17   JANUARY  19:30 IST  \n",
       "18   JANUARY  19:30 IST  \n",
       "19   JANUARY  19:30 IST  "
      ]
     },
     "execution_count": 87,
     "metadata": {},
     "output_type": "execute_result"
    }
   ],
   "source": [
    "df=pd.DataFrame({})\n",
    "df['Match Title']=Mt\n",
    "df['Series']=S\n",
    "df['Place']=P\n",
    "df['Date']=D\n",
    "df['Month']=M\n",
    "df['Time']=T\n",
    "df"
   ]
  },
  {
   "cell_type": "code",
   "execution_count": null,
   "id": "f7e52830",
   "metadata": {},
   "outputs": [],
   "source": []
  }
 ],
 "metadata": {
  "kernelspec": {
   "display_name": "Python 3",
   "language": "python",
   "name": "python3"
  },
  "language_info": {
   "codemirror_mode": {
    "name": "ipython",
    "version": 3
   },
   "file_extension": ".py",
   "mimetype": "text/x-python",
   "name": "python",
   "nbconvert_exporter": "python",
   "pygments_lexer": "ipython3",
   "version": "3.8.8"
  }
 },
 "nbformat": 4,
 "nbformat_minor": 5
}
